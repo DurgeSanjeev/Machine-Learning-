{
 "cells": [
  {
   "cell_type": "code",
   "execution_count": 33,
   "id": "e0796c24",
   "metadata": {},
   "outputs": [],
   "source": [
    "import numpy as np\n",
    "import time\n",
    "import cv2"
   ]
  },
  {
   "cell_type": "code",
   "execution_count": 34,
   "id": "3369e772",
   "metadata": {},
   "outputs": [],
   "source": [
    "INPUT_FILE='wine.jpg'\n",
    "OUTPUT_FILE='predicted.jpg'\n",
    "LABELS_FILE='coco.names'\n",
    "CONFIG_FILE='yolov3.cfg'\n",
    "WEIGHTS_FILE=\"yolov3-spp.weights\"\n",
    "CONFIDENCE_THRESHOLD=0.3"
   ]
  },
  {
   "cell_type": "code",
   "execution_count": 35,
   "id": "89588040",
   "metadata": {},
   "outputs": [],
   "source": [
    "LABELS = open(LABELS_FILE).read().strip().split(\"\\n\")"
   ]
  },
  {
   "cell_type": "code",
   "execution_count": 36,
   "id": "4313a294",
   "metadata": {},
   "outputs": [],
   "source": [
    "np.random.seed(4)\n",
    "COLORS = np.random.randint(0, 255, size=(len(LABELS), 3),\n",
    "\tdtype=\"uint8\")"
   ]
  },
  {
   "cell_type": "code",
   "execution_count": 37,
   "id": "893c8537",
   "metadata": {},
   "outputs": [],
   "source": [
    "net = cv2.dnn.readNetFromDarknet(CONFIG_FILE, WEIGHTS_FILE)\n"
   ]
  },
  {
   "cell_type": "code",
   "execution_count": 38,
   "id": "6175d37b",
   "metadata": {},
   "outputs": [],
   "source": [
    "image = cv2.imread(INPUT_FILE)\n",
    "(H, W) = image.shape[:2]"
   ]
  },
  {
   "cell_type": "code",
   "execution_count": 39,
   "id": "9a231510",
   "metadata": {},
   "outputs": [],
   "source": [
    "# determine only the *output* layer names that we need from YOLO\n",
    "layer_names = net.getLayerNames() \n",
    "output_layers = [layer_names[i - 1] for i in net.getUnconnectedOutLayers()]"
   ]
  },
  {
   "cell_type": "code",
   "execution_count": 40,
   "id": "7060665f",
   "metadata": {},
   "outputs": [],
   "source": [
    "blob = cv2.dnn.blobFromImage(image, 1 / 255.0, (416, 416),\n",
    "\tswapRB=True, crop=False)\n",
    "net.setInput(blob)\n",
    "start = time.time()\n",
    "layerOutputs = net.forward(output_layers)\n",
    "end = time.time()"
   ]
  },
  {
   "cell_type": "code",
   "execution_count": 41,
   "id": "1ff46374",
   "metadata": {},
   "outputs": [
    {
     "name": "stdout",
     "output_type": "stream",
     "text": [
      "[INFO] YOLO took 0.544544 seconds\n"
     ]
    }
   ],
   "source": [
    "print(\"[INFO] YOLO took {:.6f} seconds\".format(end - start))\n"
   ]
  },
  {
   "cell_type": "code",
   "execution_count": 42,
   "id": "3608bbc6",
   "metadata": {},
   "outputs": [],
   "source": [
    "# initialize our lists of detected bounding boxes, confidences, and\n",
    "# class IDs, respectively\n",
    "boxes = []\n",
    "confidences = []\n",
    "classIDs = []"
   ]
  },
  {
   "cell_type": "code",
   "execution_count": 43,
   "id": "21265925",
   "metadata": {},
   "outputs": [],
   "source": [
    "# loop over each of the layer outputs\n",
    "for output in layerOutputs:\n",
    "    # loop over each of the detections\n",
    "    for detection in output:\n",
    "        # extract the class ID and confidence (i.e., probability) of\n",
    "        # the current object detection\n",
    "        scores = detection[5:]\n",
    "        classID = np.argmax(scores)\n",
    "        confidence = scores[classID]\n",
    "\n",
    "        # filter out weak predictions by ensuring the detected\n",
    "        # probability is greater than the minimum probability\n",
    "        if confidence > CONFIDENCE_THRESHOLD:\n",
    "            # scale the bounding box coordinates back relative to the\n",
    "            # size of the image, keeping in mind that YOLO actually\n",
    "            # returns the center (x, y)-coordinates of the bounding\n",
    "            # box followed by the boxes' width and height\n",
    "            box = detection[0:4] * np.array([W, H, W, H])\n",
    "            (centerX, centerY, width, height) = box.astype(\"int\")\n",
    "\n",
    "            # use the center (x, y)-coordinates to derive the top and\n",
    "            # and left corner of the bounding box\n",
    "            x = int(centerX - (width / 2))\n",
    "            y = int(centerY - (height / 2))\n",
    "\n",
    "            # update our list of bounding box coordinates, confidences,\n",
    "            # and class IDs\n",
    "            boxes.append([x, y, int(width), int(height)])\n",
    "            confidences.append(float(confidence))\n",
    "            classIDs.append(classID)"
   ]
  },
  {
   "cell_type": "code",
   "execution_count": 44,
   "id": "249b2bcd",
   "metadata": {},
   "outputs": [],
   "source": [
    "# apply non-maxima suppression to suppress weak, overlapping bounding\n",
    "# boxes\n",
    "idxs = cv2.dnn.NMSBoxes(boxes, confidences, CONFIDENCE_THRESHOLD,\n",
    "    CONFIDENCE_THRESHOLD)\n",
    "\n",
    "# ensure at least one detection exists\n",
    "if len(idxs) > 0:\n",
    "    # loop over the indexes we are keeping\n",
    "    for i in idxs.flatten():\n",
    "        # extract the bounding box coordinates\n",
    "        (x, y) = (boxes[i][0], boxes[i][1])\n",
    "        (w, h) = (boxes[i][2], boxes[i][3])\n",
    "\n",
    "        color = [int(c) for c in COLORS[classIDs[i]]]\n",
    "\n",
    "        cv2.rectangle(image, (x, y), (x + w, y + h), color, 2)\n",
    "        text = \"{}: {:.4f}\".format(LABELS[classIDs[i]], confidences[i])\n",
    "        cv2.putText(image, text, (x, y - 5), cv2.FONT_HERSHEY_SIMPLEX,\n",
    "            0.5, color, 2)"
   ]
  },
  {
   "cell_type": "code",
   "execution_count": 49,
   "id": "f6722e5c",
   "metadata": {},
   "outputs": [],
   "source": [
    "# # show the output image\n",
    "cv2.imwrite(\"example.png\", image)\n",
    "cv2.imshow(\"example.png\", image)\n",
    "cv2.waitKey()\n",
    "cv2.destroyAllWindows()\n",
    "# # cv2.destroyAllWindows()"
   ]
  },
  {
   "cell_type": "code",
   "execution_count": 46,
   "id": "98375b96",
   "metadata": {},
   "outputs": [],
   "source": [
    "# cv2.imshow(\"object detection\", image)\n",
    "# cv2.waitKey()\n",
    "    \n"
   ]
  },
  {
   "cell_type": "code",
   "execution_count": 47,
   "id": "581eaaef",
   "metadata": {},
   "outputs": [],
   "source": [
    "# cv2.imwrite(\"object-detection.jpg\", image)\n",
    "# cv2.destroyAllWindows()"
   ]
  },
  {
   "cell_type": "code",
   "execution_count": null,
   "id": "09108c56",
   "metadata": {},
   "outputs": [],
   "source": []
  }
 ],
 "metadata": {
  "kernelspec": {
   "display_name": "Python 3 (ipykernel)",
   "language": "python",
   "name": "python3"
  },
  "language_info": {
   "codemirror_mode": {
    "name": "ipython",
    "version": 3
   },
   "file_extension": ".py",
   "mimetype": "text/x-python",
   "name": "python",
   "nbconvert_exporter": "python",
   "pygments_lexer": "ipython3",
   "version": "3.8.11"
  }
 },
 "nbformat": 4,
 "nbformat_minor": 5
}
